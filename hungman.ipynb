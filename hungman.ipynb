{
  "nbformat": 4,
  "nbformat_minor": 0,
  "metadata": {
    "colab": {
      "provenance": [],
      "authorship_tag": "ABX9TyPFTkk36uIK119XQUakQOk4",
      "include_colab_link": true
    },
    "kernelspec": {
      "name": "python3",
      "display_name": "Python 3"
    },
    "language_info": {
      "name": "python"
    }
  },
  "cells": [
    {
      "cell_type": "markdown",
      "metadata": {
        "id": "view-in-github",
        "colab_type": "text"
      },
      "source": [
        "<a href=\"https://colab.research.google.com/github/MAALEVAISHNAVI/AI/blob/main/hungman.ipynb\" target=\"_parent\"><img src=\"https://colab.research.google.com/assets/colab-badge.svg\" alt=\"Open In Colab\"/></a>"
      ]
    },
    {
      "cell_type": "code",
      "execution_count": null,
      "metadata": {
        "id": "_WETMS-vAiZs"
      },
      "outputs": [],
      "source": [
        "import random\n",
        "\n",
        "from hangman_words import word_list\n",
        "from hangman_art import stages,logo\n",
        "chosen_word=random.choice(word_list)\n",
        "lives=6\n",
        "#testing code\n",
        "\n",
        "print(logo)\n",
        "display=[]\n",
        "\n",
        "for i in range(len(chosen_word)):\n",
        "\n",
        "\tdisplay.append(\"_\")\n",
        "while \"_\" in display:\n",
        "\tguess=input(\"Guess a letter:\").lower()\n",
        "\tfor i in range(len(chosen_word)):\n",
        "\n",
        "\t\tletter=chosen_word[i]\n",
        "\n",
        "\t\tif letter==guess:\n",
        "\n",
        "\n",
        "\t\t\tdisplay[i]=letter\n",
        "\n",
        "\tif guess not in chosen_word:\n",
        "\n",
        "\t\tlives=lives-1\n",
        "\n",
        "\n",
        "\t\tif lives==0:\n",
        "\n",
        "\t\t\tprint(\"You loose\")\n",
        "\n",
        "\t\t\texit(1)\n",
        "\tprint(f\"{' '.join(display)}\")\n",
        "\tprint(stages[lives])\n",
        "else:\n",
        "\tprint(\"You have won\")\n",
        ""
      ]
    }
  ]
}