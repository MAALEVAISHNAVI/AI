{
  "nbformat": 4,
  "nbformat_minor": 0,
  "metadata": {
    "colab": {
      "provenance": [],
      "authorship_tag": "ABX9TyMNhy4KRaM586FWIDyzIjRo",
      "include_colab_link": true
    },
    "kernelspec": {
      "name": "python3",
      "display_name": "Python 3"
    },
    "language_info": {
      "name": "python"
    }
  },
  "cells": [
    {
      "cell_type": "markdown",
      "metadata": {
        "id": "view-in-github",
        "colab_type": "text"
      },
      "source": [
        "<a href=\"https://colab.research.google.com/github/MAALEVAISHNAVI/AI/blob/main/BFS.ipynb\" target=\"_parent\"><img src=\"https://colab.research.google.com/assets/colab-badge.svg\" alt=\"Open In Colab\"/></a>"
      ]
    },
    {
      "cell_type": "code",
      "execution_count": 1,
      "metadata": {
        "colab": {
          "base_uri": "https://localhost:8080/"
        },
        "id": "IZDXrr21vHyw",
        "outputId": "eadcac16-39d4-4a83-80f8-2dd81a9a4f03"
      },
      "outputs": [
        {
          "output_type": "stream",
          "name": "stdout",
          "text": [
            "p q r s t "
          ]
        }
      ],
      "source": [
        "graph={\n",
        "  'p':['q','r','s'],\n",
        "  'q':['p','r'],\n",
        "  'r':['p','q','t'],\n",
        "  't':['r'],\n",
        "  's':['p'],\n",
        "}\n",
        "visited=[]\n",
        "queue=[]\n",
        "def bfs(visited,graph,node):\n",
        "  visited.append(node)\n",
        "  queue.append(node)\n",
        "  while queue:\n",
        "    m=queue.pop(0)\n",
        "    print(m,end=\" \")\n",
        "    for neighbour in graph[m]:\n",
        "      if neighbour not in visited:\n",
        "        visited.append(neighbour)\n",
        "        queue.append(neighbour)\n",
        "bfs(visited, graph,'p')"
      ]
    }
  ]
}